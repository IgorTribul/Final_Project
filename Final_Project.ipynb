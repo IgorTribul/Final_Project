{
 "cells": [
  {
   "cell_type": "code",
   "execution_count": 86,
   "metadata": {},
   "outputs": [],
   "source": [
    "import numpy as np\n",
    "import pandas as pd\n",
    "from sklearn.model_selection import train_test_split\n",
    "\n",
    "import warnings\n",
    "warnings.filterwarnings('ignore')\n",
    "\n",
    "pd.options.display.max_columns = 100"
   ]
  },
  {
   "cell_type": "code",
   "execution_count": 87,
   "metadata": {},
   "outputs": [],
   "source": [
    "data = pd.read_csv('C:/Users/Игорь/Desktop/input/train.csv')\n",
    "test = pd.read_csv('C:/Users/Игорь/Desktop/input/test.csv')"
   ]
  },
  {
   "cell_type": "code",
   "execution_count": 88,
   "metadata": {},
   "outputs": [],
   "source": [
    "train, valid = train_test_split(data, test_size=0.3, random_state=42)"
   ]
  },
  {
   "cell_type": "markdown",
   "metadata": {},
   "source": [
    "### Предварительная обработка данных, убираю пустые значения, корректирую выбросы"
   ]
  },
  {
   "cell_type": "code",
   "execution_count": 89,
   "metadata": {},
   "outputs": [],
   "source": [
    "def check_data(df):\n",
    "    df.loc[df['Square']<15, 'Square']=df['Square']*10\n",
    "    df.loc[df['Square']>300,'Square']=df['Square']/10\n",
    "    df.loc[(df['Rooms']<1) | (df['Rooms']>5),'Rooms']=np.round(df['Square']*0.6/20)\n",
    "    df.loc[((df['LifeSquare']/df['Square'])<0.35) | ((df['LifeSquare']/df['Square'])>0.9), 'LifeSquare']=df['Square']*0.6\n",
    "    df['LifeSquare']=df['LifeSquare'].fillna(df['Square']*0.6)\n",
    "    df.loc[((df['KitchenSquare']/df['Square'])<0.10) | ((df['LifeSquare']/df['Square'])>0.2), 'KitchenSquare']=df['Square']*0.12\n",
    "    df.loc[df['HouseYear']==4968, 'HouseYear']=1968\n",
    "    df.loc[df['HouseYear']==20052011, 'HouseYear']=2011\n",
    "    df.loc[(df['HouseFloor']==0) & (df['Floor']<12), 'HouseFloor']=12\n",
    "    df.loc[(df['HouseFloor']==0) & (df['Floor']<17), 'HouseFloor']=17\n",
    "    df.loc[(df['HouseFloor']==0) & (df['Floor']<30), 'HouseFloor']=30\n",
    "    df.loc[df['HouseFloor']<df['Floor'], 'HouseFloor']=df['Floor']\n",
    "    df.loc[(df['HouseFloor']>48) & (df['HouseYear']<2000),'HouseFloor']=np.round(df['HouseFloor']/10)\n",
    "    df['Ecology_2']=(df['Ecology_2']=='B').astype(int)\n",
    "    df['Ecology_3']=(df['Ecology_3']=='B').astype(int)\n",
    "    df['Shops_2']=(df['Shops_2']=='B').astype(int)\n",
    "    df=df.drop('Healthcare_1', axis=1)\n",
    "    return df"
   ]
  },
  {
   "cell_type": "code",
   "execution_count": 90,
   "metadata": {},
   "outputs": [],
   "source": [
    "train=check_data(train)\n",
    "valid=check_data(valid)"
   ]
  },
  {
   "cell_type": "code",
   "execution_count": 91,
   "metadata": {},
   "outputs": [
    {
     "name": "stdout",
     "output_type": "stream",
     "text": [
      "<class 'pandas.core.frame.DataFrame'>\n",
      "Int64Index: 7000 entries, 9069 to 7270\n",
      "Data columns (total 19 columns):\n",
      "Id               7000 non-null int64\n",
      "DistrictId       7000 non-null int64\n",
      "Rooms            7000 non-null float64\n",
      "Square           7000 non-null float64\n",
      "LifeSquare       7000 non-null float64\n",
      "KitchenSquare    7000 non-null float64\n",
      "Floor            7000 non-null int64\n",
      "HouseFloor       7000 non-null float64\n",
      "HouseYear        7000 non-null int64\n",
      "Ecology_1        7000 non-null float64\n",
      "Ecology_2        7000 non-null int32\n",
      "Ecology_3        7000 non-null int32\n",
      "Social_1         7000 non-null int64\n",
      "Social_2         7000 non-null int64\n",
      "Social_3         7000 non-null int64\n",
      "Helthcare_2      7000 non-null int64\n",
      "Shops_1          7000 non-null int64\n",
      "Shops_2          7000 non-null int32\n",
      "Price            7000 non-null float64\n",
      "dtypes: float64(7), int32(3), int64(9)\n",
      "memory usage: 1.3 MB\n",
      "<class 'pandas.core.frame.DataFrame'>\n",
      "Int64Index: 3000 entries, 6252 to 4705\n",
      "Data columns (total 19 columns):\n",
      "Id               3000 non-null int64\n",
      "DistrictId       3000 non-null int64\n",
      "Rooms            3000 non-null float64\n",
      "Square           3000 non-null float64\n",
      "LifeSquare       3000 non-null float64\n",
      "KitchenSquare    3000 non-null float64\n",
      "Floor            3000 non-null int64\n",
      "HouseFloor       3000 non-null float64\n",
      "HouseYear        3000 non-null int64\n",
      "Ecology_1        3000 non-null float64\n",
      "Ecology_2        3000 non-null int32\n",
      "Ecology_3        3000 non-null int32\n",
      "Social_1         3000 non-null int64\n",
      "Social_2         3000 non-null int64\n",
      "Social_3         3000 non-null int64\n",
      "Helthcare_2      3000 non-null int64\n",
      "Shops_1          3000 non-null int64\n",
      "Shops_2          3000 non-null int32\n",
      "Price            3000 non-null float64\n",
      "dtypes: float64(7), int32(3), int64(9)\n",
      "memory usage: 513.6 KB\n"
     ]
    },
    {
     "data": {
      "text/plain": [
       "(None, None)"
      ]
     },
     "execution_count": 91,
     "metadata": {},
     "output_type": "execute_result"
    }
   ],
   "source": [
    "train.info(), valid.info()"
   ]
  },
  {
   "cell_type": "markdown",
   "metadata": {},
   "source": [
    "### Рассчет средней цены квадратного метра в зависимости от района и инфраструктуры"
   ]
  },
  {
   "cell_type": "markdown",
   "metadata": {},
   "source": [
    "Создаю df с признаками, которые относятся к характеристикам района и имеют наибольший коэффициент корреляции с DistrictId"
   ]
  },
  {
   "cell_type": "code",
   "execution_count": 92,
   "metadata": {},
   "outputs": [
    {
     "data": {
      "text/html": [
       "<div>\n",
       "<style scoped>\n",
       "    .dataframe tbody tr th:only-of-type {\n",
       "        vertical-align: middle;\n",
       "    }\n",
       "\n",
       "    .dataframe tbody tr th {\n",
       "        vertical-align: top;\n",
       "    }\n",
       "\n",
       "    .dataframe thead th {\n",
       "        text-align: right;\n",
       "    }\n",
       "</style>\n",
       "<table border=\"1\" class=\"dataframe\">\n",
       "  <thead>\n",
       "    <tr style=\"text-align: right;\">\n",
       "      <th></th>\n",
       "      <th>DistrictId</th>\n",
       "      <th>Social_1</th>\n",
       "      <th>Social_2</th>\n",
       "      <th>Helthcare_2</th>\n",
       "      <th>Shops_1</th>\n",
       "      <th>Shops_2</th>\n",
       "    </tr>\n",
       "  </thead>\n",
       "  <tbody>\n",
       "    <tr>\n",
       "      <th>DistrictId</th>\n",
       "      <td>1.000000</td>\n",
       "      <td>0.242861</td>\n",
       "      <td>0.162288</td>\n",
       "      <td>0.304945</td>\n",
       "      <td>0.173713</td>\n",
       "      <td>-0.025469</td>\n",
       "    </tr>\n",
       "    <tr>\n",
       "      <th>Social_1</th>\n",
       "      <td>0.242861</td>\n",
       "      <td>1.000000</td>\n",
       "      <td>0.955630</td>\n",
       "      <td>0.523949</td>\n",
       "      <td>0.524267</td>\n",
       "      <td>0.139777</td>\n",
       "    </tr>\n",
       "    <tr>\n",
       "      <th>Social_2</th>\n",
       "      <td>0.162288</td>\n",
       "      <td>0.955630</td>\n",
       "      <td>1.000000</td>\n",
       "      <td>0.474531</td>\n",
       "      <td>0.557988</td>\n",
       "      <td>0.140520</td>\n",
       "    </tr>\n",
       "    <tr>\n",
       "      <th>Helthcare_2</th>\n",
       "      <td>0.304945</td>\n",
       "      <td>0.523949</td>\n",
       "      <td>0.474531</td>\n",
       "      <td>1.000000</td>\n",
       "      <td>0.474736</td>\n",
       "      <td>0.119370</td>\n",
       "    </tr>\n",
       "    <tr>\n",
       "      <th>Shops_1</th>\n",
       "      <td>0.173713</td>\n",
       "      <td>0.524267</td>\n",
       "      <td>0.557988</td>\n",
       "      <td>0.474736</td>\n",
       "      <td>1.000000</td>\n",
       "      <td>0.135256</td>\n",
       "    </tr>\n",
       "    <tr>\n",
       "      <th>Shops_2</th>\n",
       "      <td>-0.025469</td>\n",
       "      <td>0.139777</td>\n",
       "      <td>0.140520</td>\n",
       "      <td>0.119370</td>\n",
       "      <td>0.135256</td>\n",
       "      <td>1.000000</td>\n",
       "    </tr>\n",
       "  </tbody>\n",
       "</table>\n",
       "</div>"
      ],
      "text/plain": [
       "             DistrictId  Social_1  Social_2  Helthcare_2   Shops_1   Shops_2\n",
       "DistrictId     1.000000  0.242861  0.162288     0.304945  0.173713 -0.025469\n",
       "Social_1       0.242861  1.000000  0.955630     0.523949  0.524267  0.139777\n",
       "Social_2       0.162288  0.955630  1.000000     0.474531  0.557988  0.140520\n",
       "Helthcare_2    0.304945  0.523949  0.474531     1.000000  0.474736  0.119370\n",
       "Shops_1        0.173713  0.524267  0.557988     0.474736  1.000000  0.135256\n",
       "Shops_2       -0.025469  0.139777  0.140520     0.119370  0.135256  1.000000"
      ]
     },
     "execution_count": 92,
     "metadata": {},
     "output_type": "execute_result"
    }
   ],
   "source": [
    "train_dist=train[['DistrictId', 'Social_1', 'Social_2', 'Helthcare_2', 'Shops_1', 'Shops_2']]\n",
    "train_dist.corr()"
   ]
  },
  {
   "cell_type": "markdown",
   "metadata": {},
   "source": [
    "Рассчитываю среднюю стоимость квадратного метра с учетом района и признаков, которые характеризуют район"
   ]
  },
  {
   "cell_type": "code",
   "execution_count": 93,
   "metadata": {},
   "outputs": [
    {
     "data": {
      "text/html": [
       "<div>\n",
       "<style scoped>\n",
       "    .dataframe tbody tr th:only-of-type {\n",
       "        vertical-align: middle;\n",
       "    }\n",
       "\n",
       "    .dataframe tbody tr th {\n",
       "        vertical-align: top;\n",
       "    }\n",
       "\n",
       "    .dataframe thead th {\n",
       "        text-align: right;\n",
       "    }\n",
       "</style>\n",
       "<table border=\"1\" class=\"dataframe\">\n",
       "  <thead>\n",
       "    <tr style=\"text-align: right;\">\n",
       "      <th></th>\n",
       "      <th>DistrictId</th>\n",
       "      <th>Social_1</th>\n",
       "      <th>Social_2</th>\n",
       "      <th>Helthcare_2</th>\n",
       "      <th>Shops_1</th>\n",
       "      <th>Shops_2</th>\n",
       "      <th>M2_price</th>\n",
       "    </tr>\n",
       "  </thead>\n",
       "  <tbody>\n",
       "    <tr>\n",
       "      <th>0</th>\n",
       "      <td>0</td>\n",
       "      <td>25</td>\n",
       "      <td>4756</td>\n",
       "      <td>5</td>\n",
       "      <td>8</td>\n",
       "      <td>1</td>\n",
       "      <td>4201.442477</td>\n",
       "    </tr>\n",
       "    <tr>\n",
       "      <th>1</th>\n",
       "      <td>0</td>\n",
       "      <td>30</td>\n",
       "      <td>5285</td>\n",
       "      <td>6</td>\n",
       "      <td>6</td>\n",
       "      <td>1</td>\n",
       "      <td>2589.743001</td>\n",
       "    </tr>\n",
       "  </tbody>\n",
       "</table>\n",
       "</div>"
      ],
      "text/plain": [
       "   DistrictId  Social_1  Social_2  Helthcare_2  Shops_1  Shops_2     M2_price\n",
       "0           0        25      4756            5        8        1  4201.442477\n",
       "1           0        30      5285            6        6        1  2589.743001"
      ]
     },
     "execution_count": 93,
     "metadata": {},
     "output_type": "execute_result"
    }
   ],
   "source": [
    "train_dist['M2_price']=train['Price']/train['Square']\n",
    "M2_price=train_dist.groupby(['DistrictId', 'Social_1', 'Social_2', 'Helthcare_2', 'Shops_1', 'Shops_2'], as_index=False)[['M2_price']].mean()\n",
    "M2_price.head(2)"
   ]
  },
  {
   "cell_type": "markdown",
   "metadata": {},
   "source": [
    "Рассчитываю среднюю стоимость квадратного метра с учетом района, но без учета признаков"
   ]
  },
  {
   "cell_type": "code",
   "execution_count": 94,
   "metadata": {},
   "outputs": [
    {
     "data": {
      "text/html": [
       "<div>\n",
       "<style scoped>\n",
       "    .dataframe tbody tr th:only-of-type {\n",
       "        vertical-align: middle;\n",
       "    }\n",
       "\n",
       "    .dataframe tbody tr th {\n",
       "        vertical-align: top;\n",
       "    }\n",
       "\n",
       "    .dataframe thead th {\n",
       "        text-align: right;\n",
       "    }\n",
       "</style>\n",
       "<table border=\"1\" class=\"dataframe\">\n",
       "  <thead>\n",
       "    <tr style=\"text-align: right;\">\n",
       "      <th></th>\n",
       "      <th>DistrictId</th>\n",
       "      <th>M2_dist</th>\n",
       "    </tr>\n",
       "  </thead>\n",
       "  <tbody>\n",
       "    <tr>\n",
       "      <th>0</th>\n",
       "      <td>0</td>\n",
       "      <td>3537.801516</td>\n",
       "    </tr>\n",
       "    <tr>\n",
       "      <th>1</th>\n",
       "      <td>1</td>\n",
       "      <td>3211.478078</td>\n",
       "    </tr>\n",
       "  </tbody>\n",
       "</table>\n",
       "</div>"
      ],
      "text/plain": [
       "   DistrictId      M2_dist\n",
       "0           0  3537.801516\n",
       "1           1  3211.478078"
      ]
     },
     "execution_count": 94,
     "metadata": {},
     "output_type": "execute_result"
    }
   ],
   "source": [
    "M2_dist=train_dist.groupby(['DistrictId'], as_index=False)[['M2_price']].mean().rename(columns={'M2_price':'M2_dist'})\n",
    "M2_dist.head(2)"
   ]
  },
  {
   "cell_type": "markdown",
   "metadata": {},
   "source": [
    "Средняя стоимость квадратного метра по всей выборке train или другими словами глобальную"
   ]
  },
  {
   "cell_type": "code",
   "execution_count": 95,
   "metadata": {},
   "outputs": [
    {
     "data": {
      "text/plain": [
       "3897.987066279172"
      ]
     },
     "execution_count": 95,
     "metadata": {},
     "output_type": "execute_result"
    }
   ],
   "source": [
    "M2_all=train_dist['M2_price'].mean()\n",
    "M2_all"
   ]
  },
  {
   "cell_type": "markdown",
   "metadata": {},
   "source": [
    "Создаю функцию для рассчета средней стоимости квадратного метра, произвожу с её помощью преобразование train и valid"
   ]
  },
  {
   "cell_type": "code",
   "execution_count": 96,
   "metadata": {},
   "outputs": [],
   "source": [
    "def add_M2_price(df, M2_price=M2_price, M2_dist=M2_dist):\n",
    "    global M2_all\n",
    "    df = pd.merge(df, M2_dist, on=['DistrictId'], how='left')\n",
    "    df['M2_dist'] = df['M2_dist'].fillna(M2_all)\n",
    "    df = pd.merge(df, M2_price, on=['DistrictId', 'Social_1', 'Social_2', 'Helthcare_2', 'Shops_1', 'Shops_2'], how='left')\n",
    "    df['M2_price'] = df['M2_price'].fillna(df['M2_dist'])\n",
    "    df=df.drop('M2_dist', axis=1)\n",
    "    return df"
   ]
  },
  {
   "cell_type": "code",
   "execution_count": 97,
   "metadata": {},
   "outputs": [],
   "source": [
    "train=add_M2_price(train)\n",
    "valid=add_M2_price(valid)"
   ]
  },
  {
   "cell_type": "code",
   "execution_count": 98,
   "metadata": {},
   "outputs": [
    {
     "data": {
      "text/html": [
       "<div>\n",
       "<style scoped>\n",
       "    .dataframe tbody tr th:only-of-type {\n",
       "        vertical-align: middle;\n",
       "    }\n",
       "\n",
       "    .dataframe tbody tr th {\n",
       "        vertical-align: top;\n",
       "    }\n",
       "\n",
       "    .dataframe thead th {\n",
       "        text-align: right;\n",
       "    }\n",
       "</style>\n",
       "<table border=\"1\" class=\"dataframe\">\n",
       "  <thead>\n",
       "    <tr style=\"text-align: right;\">\n",
       "      <th></th>\n",
       "      <th>Id</th>\n",
       "      <th>DistrictId</th>\n",
       "      <th>Rooms</th>\n",
       "      <th>Square</th>\n",
       "      <th>LifeSquare</th>\n",
       "      <th>KitchenSquare</th>\n",
       "      <th>Floor</th>\n",
       "      <th>HouseFloor</th>\n",
       "      <th>HouseYear</th>\n",
       "      <th>Ecology_1</th>\n",
       "      <th>Ecology_2</th>\n",
       "      <th>Ecology_3</th>\n",
       "      <th>Social_1</th>\n",
       "      <th>Social_2</th>\n",
       "      <th>Social_3</th>\n",
       "      <th>Helthcare_2</th>\n",
       "      <th>Shops_1</th>\n",
       "      <th>Shops_2</th>\n",
       "      <th>Price</th>\n",
       "      <th>M2_price</th>\n",
       "    </tr>\n",
       "  </thead>\n",
       "  <tbody>\n",
       "    <tr>\n",
       "      <th>0</th>\n",
       "      <td>14604</td>\n",
       "      <td>23</td>\n",
       "      <td>1.0</td>\n",
       "      <td>41.681380</td>\n",
       "      <td>22.796166</td>\n",
       "      <td>5.001766</td>\n",
       "      <td>14</td>\n",
       "      <td>17.0</td>\n",
       "      <td>2015</td>\n",
       "      <td>0.075779</td>\n",
       "      <td>1</td>\n",
       "      <td>1</td>\n",
       "      <td>6</td>\n",
       "      <td>1437</td>\n",
       "      <td>3</td>\n",
       "      <td>0</td>\n",
       "      <td>2</td>\n",
       "      <td>1</td>\n",
       "      <td>88504.384965</td>\n",
       "      <td>2561.348604</td>\n",
       "    </tr>\n",
       "    <tr>\n",
       "      <th>1</th>\n",
       "      <td>5621</td>\n",
       "      <td>23</td>\n",
       "      <td>3.0</td>\n",
       "      <td>163.495333</td>\n",
       "      <td>98.097200</td>\n",
       "      <td>19.619440</td>\n",
       "      <td>5</td>\n",
       "      <td>5.0</td>\n",
       "      <td>1977</td>\n",
       "      <td>0.014073</td>\n",
       "      <td>1</td>\n",
       "      <td>1</td>\n",
       "      <td>2</td>\n",
       "      <td>475</td>\n",
       "      <td>0</td>\n",
       "      <td>0</td>\n",
       "      <td>0</td>\n",
       "      <td>1</td>\n",
       "      <td>207007.956663</td>\n",
       "      <td>1983.515133</td>\n",
       "    </tr>\n",
       "  </tbody>\n",
       "</table>\n",
       "</div>"
      ],
      "text/plain": [
       "      Id  DistrictId  Rooms      Square  LifeSquare  KitchenSquare  Floor  \\\n",
       "0  14604          23    1.0   41.681380   22.796166       5.001766     14   \n",
       "1   5621          23    3.0  163.495333   98.097200      19.619440      5   \n",
       "\n",
       "   HouseFloor  HouseYear  Ecology_1  Ecology_2  Ecology_3  Social_1  Social_2  \\\n",
       "0        17.0       2015   0.075779          1          1         6      1437   \n",
       "1         5.0       1977   0.014073          1          1         2       475   \n",
       "\n",
       "   Social_3  Helthcare_2  Shops_1  Shops_2          Price     M2_price  \n",
       "0         3            0        2        1   88504.384965  2561.348604  \n",
       "1         0            0        0        1  207007.956663  1983.515133  "
      ]
     },
     "execution_count": 98,
     "metadata": {},
     "output_type": "execute_result"
    }
   ],
   "source": [
    "train.head(2)"
   ]
  },
  {
   "cell_type": "code",
   "execution_count": 99,
   "metadata": {},
   "outputs": [
    {
     "data": {
      "text/html": [
       "<div>\n",
       "<style scoped>\n",
       "    .dataframe tbody tr th:only-of-type {\n",
       "        vertical-align: middle;\n",
       "    }\n",
       "\n",
       "    .dataframe tbody tr th {\n",
       "        vertical-align: top;\n",
       "    }\n",
       "\n",
       "    .dataframe thead th {\n",
       "        text-align: right;\n",
       "    }\n",
       "</style>\n",
       "<table border=\"1\" class=\"dataframe\">\n",
       "  <thead>\n",
       "    <tr style=\"text-align: right;\">\n",
       "      <th></th>\n",
       "      <th>Id</th>\n",
       "      <th>DistrictId</th>\n",
       "      <th>Rooms</th>\n",
       "      <th>Square</th>\n",
       "      <th>LifeSquare</th>\n",
       "      <th>KitchenSquare</th>\n",
       "      <th>Floor</th>\n",
       "      <th>HouseFloor</th>\n",
       "      <th>HouseYear</th>\n",
       "      <th>Ecology_1</th>\n",
       "      <th>Ecology_2</th>\n",
       "      <th>Ecology_3</th>\n",
       "      <th>Social_1</th>\n",
       "      <th>Social_2</th>\n",
       "      <th>Social_3</th>\n",
       "      <th>Helthcare_2</th>\n",
       "      <th>Shops_1</th>\n",
       "      <th>Shops_2</th>\n",
       "      <th>Price</th>\n",
       "      <th>M2_price</th>\n",
       "    </tr>\n",
       "  </thead>\n",
       "  <tbody>\n",
       "    <tr>\n",
       "      <th>0</th>\n",
       "      <td>3702</td>\n",
       "      <td>21</td>\n",
       "      <td>2.0</td>\n",
       "      <td>48.812195</td>\n",
       "      <td>34.679779</td>\n",
       "      <td>5.857463</td>\n",
       "      <td>5</td>\n",
       "      <td>5.0</td>\n",
       "      <td>1963</td>\n",
       "      <td>0.034331</td>\n",
       "      <td>1</td>\n",
       "      <td>1</td>\n",
       "      <td>25</td>\n",
       "      <td>5487</td>\n",
       "      <td>3</td>\n",
       "      <td>0</td>\n",
       "      <td>4</td>\n",
       "      <td>1</td>\n",
       "      <td>181530.459031</td>\n",
       "      <td>4320.183949</td>\n",
       "    </tr>\n",
       "    <tr>\n",
       "      <th>1</th>\n",
       "      <td>12848</td>\n",
       "      <td>61</td>\n",
       "      <td>3.0</td>\n",
       "      <td>81.103039</td>\n",
       "      <td>49.310278</td>\n",
       "      <td>9.732365</td>\n",
       "      <td>4</td>\n",
       "      <td>4.0</td>\n",
       "      <td>1960</td>\n",
       "      <td>0.298205</td>\n",
       "      <td>1</td>\n",
       "      <td>1</td>\n",
       "      <td>16</td>\n",
       "      <td>4048</td>\n",
       "      <td>3</td>\n",
       "      <td>1</td>\n",
       "      <td>3</td>\n",
       "      <td>1</td>\n",
       "      <td>260456.004692</td>\n",
       "      <td>3892.224255</td>\n",
       "    </tr>\n",
       "  </tbody>\n",
       "</table>\n",
       "</div>"
      ],
      "text/plain": [
       "      Id  DistrictId  Rooms     Square  LifeSquare  KitchenSquare  Floor  \\\n",
       "0   3702          21    2.0  48.812195   34.679779       5.857463      5   \n",
       "1  12848          61    3.0  81.103039   49.310278       9.732365      4   \n",
       "\n",
       "   HouseFloor  HouseYear  Ecology_1  Ecology_2  Ecology_3  Social_1  Social_2  \\\n",
       "0         5.0       1963   0.034331          1          1        25      5487   \n",
       "1         4.0       1960   0.298205          1          1        16      4048   \n",
       "\n",
       "   Social_3  Helthcare_2  Shops_1  Shops_2          Price     M2_price  \n",
       "0         3            0        4        1  181530.459031  4320.183949  \n",
       "1         3            1        3        1  260456.004692  3892.224255  "
      ]
     },
     "execution_count": 99,
     "metadata": {},
     "output_type": "execute_result"
    }
   ],
   "source": [
    "valid.head(2)"
   ]
  },
  {
   "cell_type": "code",
   "execution_count": 100,
   "metadata": {},
   "outputs": [],
   "source": [
    "feats=['DistrictId', 'Rooms', 'Square', 'LifeSquare', 'KitchenSquare',\n",
    "       'Floor', 'HouseFloor', 'HouseYear', 'Ecology_1', 'Ecology_2',\n",
    "       'Ecology_3', 'Social_1', 'Social_2', 'Social_3', 'Helthcare_2',\n",
    "       'Shops_1', 'Shops_2', 'M2_price']"
   ]
  },
  {
   "cell_type": "code",
   "execution_count": 101,
   "metadata": {},
   "outputs": [
    {
     "data": {
      "text/plain": [
       "0.85569444220989"
      ]
     },
     "execution_count": 101,
     "metadata": {},
     "output_type": "execute_result"
    }
   ],
   "source": [
    "from sklearn.ensemble import RandomForestRegressor as RFR\n",
    "model = RFR(max_depth=8, random_state=42)\n",
    "model.fit(train.loc[:, feats], train['Price'])\n",
    "y_pred_train = model.predict(train.loc[:, feats])\n",
    "from sklearn.metrics import r2_score as r2\n",
    "r2(train['Price'], y_pred_train)"
   ]
  },
  {
   "cell_type": "code",
   "execution_count": 102,
   "metadata": {},
   "outputs": [
    {
     "data": {
      "text/plain": [
       "0.7082346811293292"
      ]
     },
     "execution_count": 102,
     "metadata": {},
     "output_type": "execute_result"
    }
   ],
   "source": [
    "y_pred_valid = model.predict(valid.loc[:, feats])\n",
    "r2(valid['Price'], y_pred_valid)"
   ]
  },
  {
   "cell_type": "markdown",
   "metadata": {},
   "source": [
    "### Test"
   ]
  },
  {
   "cell_type": "code",
   "execution_count": 103,
   "metadata": {},
   "outputs": [],
   "source": [
    "test=check_data(test)"
   ]
  },
  {
   "cell_type": "code",
   "execution_count": 104,
   "metadata": {},
   "outputs": [],
   "source": [
    "test=add_M2_price(test)"
   ]
  },
  {
   "cell_type": "code",
   "execution_count": 105,
   "metadata": {},
   "outputs": [
    {
     "data": {
      "text/html": [
       "<div>\n",
       "<style scoped>\n",
       "    .dataframe tbody tr th:only-of-type {\n",
       "        vertical-align: middle;\n",
       "    }\n",
       "\n",
       "    .dataframe tbody tr th {\n",
       "        vertical-align: top;\n",
       "    }\n",
       "\n",
       "    .dataframe thead th {\n",
       "        text-align: right;\n",
       "    }\n",
       "</style>\n",
       "<table border=\"1\" class=\"dataframe\">\n",
       "  <thead>\n",
       "    <tr style=\"text-align: right;\">\n",
       "      <th></th>\n",
       "      <th>Id</th>\n",
       "      <th>DistrictId</th>\n",
       "      <th>Rooms</th>\n",
       "      <th>Square</th>\n",
       "      <th>LifeSquare</th>\n",
       "      <th>KitchenSquare</th>\n",
       "      <th>Floor</th>\n",
       "      <th>HouseFloor</th>\n",
       "      <th>HouseYear</th>\n",
       "      <th>Ecology_1</th>\n",
       "      <th>Ecology_2</th>\n",
       "      <th>Ecology_3</th>\n",
       "      <th>Social_1</th>\n",
       "      <th>Social_2</th>\n",
       "      <th>Social_3</th>\n",
       "      <th>Helthcare_2</th>\n",
       "      <th>Shops_1</th>\n",
       "      <th>Shops_2</th>\n",
       "      <th>M2_price</th>\n",
       "    </tr>\n",
       "  </thead>\n",
       "  <tbody>\n",
       "    <tr>\n",
       "      <th>0</th>\n",
       "      <td>725</td>\n",
       "      <td>58</td>\n",
       "      <td>2.0</td>\n",
       "      <td>49.882643</td>\n",
       "      <td>33.432782</td>\n",
       "      <td>5.985917</td>\n",
       "      <td>6</td>\n",
       "      <td>14.0</td>\n",
       "      <td>1972</td>\n",
       "      <td>0.310199</td>\n",
       "      <td>1</td>\n",
       "      <td>1</td>\n",
       "      <td>11</td>\n",
       "      <td>2748</td>\n",
       "      <td>1</td>\n",
       "      <td>0</td>\n",
       "      <td>0</td>\n",
       "      <td>1</td>\n",
       "      <td>3277.432032</td>\n",
       "    </tr>\n",
       "    <tr>\n",
       "      <th>1</th>\n",
       "      <td>15856</td>\n",
       "      <td>74</td>\n",
       "      <td>2.0</td>\n",
       "      <td>69.263183</td>\n",
       "      <td>41.557910</td>\n",
       "      <td>8.311582</td>\n",
       "      <td>6</td>\n",
       "      <td>6.0</td>\n",
       "      <td>1977</td>\n",
       "      <td>0.075779</td>\n",
       "      <td>1</td>\n",
       "      <td>1</td>\n",
       "      <td>6</td>\n",
       "      <td>1437</td>\n",
       "      <td>3</td>\n",
       "      <td>0</td>\n",
       "      <td>2</td>\n",
       "      <td>1</td>\n",
       "      <td>3254.720558</td>\n",
       "    </tr>\n",
       "  </tbody>\n",
       "</table>\n",
       "</div>"
      ],
      "text/plain": [
       "      Id  DistrictId  Rooms     Square  LifeSquare  KitchenSquare  Floor  \\\n",
       "0    725          58    2.0  49.882643   33.432782       5.985917      6   \n",
       "1  15856          74    2.0  69.263183   41.557910       8.311582      6   \n",
       "\n",
       "   HouseFloor  HouseYear  Ecology_1  Ecology_2  Ecology_3  Social_1  Social_2  \\\n",
       "0        14.0       1972   0.310199          1          1        11      2748   \n",
       "1         6.0       1977   0.075779          1          1         6      1437   \n",
       "\n",
       "   Social_3  Helthcare_2  Shops_1  Shops_2     M2_price  \n",
       "0         1            0        0        1  3277.432032  \n",
       "1         3            0        2        1  3254.720558  "
      ]
     },
     "execution_count": 105,
     "metadata": {},
     "output_type": "execute_result"
    }
   ],
   "source": [
    "test.head(2)"
   ]
  },
  {
   "cell_type": "code",
   "execution_count": 106,
   "metadata": {},
   "outputs": [
    {
     "name": "stdout",
     "output_type": "stream",
     "text": [
      "<class 'pandas.core.frame.DataFrame'>\n",
      "Int64Index: 5000 entries, 0 to 4999\n",
      "Data columns (total 19 columns):\n",
      "Id               5000 non-null int64\n",
      "DistrictId       5000 non-null int64\n",
      "Rooms            5000 non-null float64\n",
      "Square           5000 non-null float64\n",
      "LifeSquare       5000 non-null float64\n",
      "KitchenSquare    5000 non-null float64\n",
      "Floor            5000 non-null int64\n",
      "HouseFloor       5000 non-null float64\n",
      "HouseYear        5000 non-null int64\n",
      "Ecology_1        5000 non-null float64\n",
      "Ecology_2        5000 non-null int32\n",
      "Ecology_3        5000 non-null int32\n",
      "Social_1         5000 non-null int64\n",
      "Social_2         5000 non-null int64\n",
      "Social_3         5000 non-null int64\n",
      "Helthcare_2      5000 non-null int64\n",
      "Shops_1          5000 non-null int64\n",
      "Shops_2          5000 non-null int32\n",
      "M2_price         5000 non-null float64\n",
      "dtypes: float64(7), int32(3), int64(9)\n",
      "memory usage: 722.7 KB\n"
     ]
    }
   ],
   "source": [
    "test.info()"
   ]
  },
  {
   "cell_type": "code",
   "execution_count": 107,
   "metadata": {},
   "outputs": [],
   "source": [
    "test['Price'] = model.predict(test.loc[:, feats])"
   ]
  },
  {
   "cell_type": "code",
   "execution_count": 108,
   "metadata": {},
   "outputs": [
    {
     "data": {
      "text/html": [
       "<div>\n",
       "<style scoped>\n",
       "    .dataframe tbody tr th:only-of-type {\n",
       "        vertical-align: middle;\n",
       "    }\n",
       "\n",
       "    .dataframe tbody tr th {\n",
       "        vertical-align: top;\n",
       "    }\n",
       "\n",
       "    .dataframe thead th {\n",
       "        text-align: right;\n",
       "    }\n",
       "</style>\n",
       "<table border=\"1\" class=\"dataframe\">\n",
       "  <thead>\n",
       "    <tr style=\"text-align: right;\">\n",
       "      <th></th>\n",
       "      <th>Id</th>\n",
       "      <th>Price</th>\n",
       "    </tr>\n",
       "  </thead>\n",
       "  <tbody>\n",
       "    <tr>\n",
       "      <th>0</th>\n",
       "      <td>725</td>\n",
       "      <td>169070.223895</td>\n",
       "    </tr>\n",
       "    <tr>\n",
       "      <th>1</th>\n",
       "      <td>15856</td>\n",
       "      <td>221301.748594</td>\n",
       "    </tr>\n",
       "    <tr>\n",
       "      <th>2</th>\n",
       "      <td>5480</td>\n",
       "      <td>490363.627711</td>\n",
       "    </tr>\n",
       "    <tr>\n",
       "      <th>3</th>\n",
       "      <td>15664</td>\n",
       "      <td>327125.848122</td>\n",
       "    </tr>\n",
       "    <tr>\n",
       "      <th>4</th>\n",
       "      <td>14275</td>\n",
       "      <td>144716.442611</td>\n",
       "    </tr>\n",
       "  </tbody>\n",
       "</table>\n",
       "</div>"
      ],
      "text/plain": [
       "      Id          Price\n",
       "0    725  169070.223895\n",
       "1  15856  221301.748594\n",
       "2   5480  490363.627711\n",
       "3  15664  327125.848122\n",
       "4  14275  144716.442611"
      ]
     },
     "execution_count": 108,
     "metadata": {},
     "output_type": "execute_result"
    }
   ],
   "source": [
    "test.loc[:,['Id','Price']].head()"
   ]
  },
  {
   "cell_type": "code",
   "execution_count": 109,
   "metadata": {},
   "outputs": [],
   "source": [
    "test.loc[:,['Id','Price']].to_csv('C:/Users/Игорь/Desktop/input/ITribul_predictions.csv', index=None)"
   ]
  }
 ],
 "metadata": {
  "kernelspec": {
   "display_name": "Python 3",
   "language": "python",
   "name": "python3"
  },
  "language_info": {
   "codemirror_mode": {
    "name": "ipython",
    "version": 3
   },
   "file_extension": ".py",
   "mimetype": "text/x-python",
   "name": "python",
   "nbconvert_exporter": "python",
   "pygments_lexer": "ipython3",
   "version": "3.7.3"
  }
 },
 "nbformat": 4,
 "nbformat_minor": 2
}
